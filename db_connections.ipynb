{
 "cells": [
  {
   "cell_type": "markdown",
   "id": "b088ed8d",
   "metadata": {},
   "source": [
    "### Run configuration file containing all global variables"
   ]
  },
  {
   "cell_type": "code",
   "execution_count": null,
   "id": "a3b4ff69",
   "metadata": {},
   "outputs": [],
   "source": [
    "%run ./config.ipynb"
   ]
  },
  {
   "cell_type": "markdown",
   "id": "a5b75ed2",
   "metadata": {},
   "source": [
    "### Import Python Libraries"
   ]
  },
  {
   "cell_type": "code",
   "execution_count": null,
   "id": "bd6b0b7e",
   "metadata": {},
   "outputs": [],
   "source": [
    "#!pip install pymongo\n",
    "#!pip install psycopg2\n",
    "import pymongo\n",
    "import requests\n",
    "import pandas as pd\n",
    "import psycopg2\n",
    "from sqlalchemy import create_engine"
   ]
  },
  {
   "cell_type": "markdown",
   "id": "f55295d2",
   "metadata": {},
   "source": [
    "### Establish Connection with MongoDB Client"
   ]
  },
  {
   "cell_type": "code",
   "execution_count": null,
   "id": "3dc32b09",
   "metadata": {},
   "outputs": [],
   "source": [
    "# Function to connect to MongoDB and return the client, database, and collection objects.\n",
    "\n",
    "def connect_to_mongodb(mongoConnectionstring, mongoDatabasename, mongoCollectionname):\n",
    "    client = None\n",
    "    db = None\n",
    "    collection = None\n",
    "    try:\n",
    "        client = pymongo.MongoClient(mongoConnectionstring)\n",
    "        db=client[mongoDatabasename]\n",
    "        collection = db[mongoCollectionname]\n",
    "    except pymongo.errors.ConnectionFailure:\n",
    "        print(\"Error while connection to the database\")\n",
    "    except pymongo.errors.InvalidURI:\n",
    "        print(\"Trying to parse the Invaild URI\")\n",
    "    except pymongo.errors.NetworkTimeout:\n",
    "        print(\"The database connection has been timed out\")\n",
    "    else:\n",
    "        print(\"The connection has been established successfully\")\n",
    "\n",
    "    return client, db, collection\n",
    "\n",
    "#client, db, collection = connect_to_mongodb(mongoConnectionstring, mongoDatabasename, mongoCollectionname)"
   ]
  },
  {
   "cell_type": "markdown",
   "id": "3b3812da",
   "metadata": {},
   "source": [
    "### Establish Connection with Postgres Client"
   ]
  },
  {
   "cell_type": "code",
   "execution_count": null,
   "id": "df2c6d35",
   "metadata": {},
   "outputs": [],
   "source": [
    "# Establish PostgreSQL connection using psycopg2 library\n",
    "\n",
    "conn = psycopg2.connect(\n",
    "    dbname=postgresDbname,\n",
    "    user=postgresUsername,\n",
    "    password=postgresPassword,\n",
    "    host=postgresHost,\n",
    "    port=postgresPort\n",
    ")\n",
    "\n",
    "# Function to establish connection with PostgreSQL database using SQLAlchemy.\n",
    "\n",
    "def establish_postgres_connection(postgresUsername, postgresPassword, postgresHost, postgresPort, postgresDbname):\n",
    "    engine = None\n",
    "    try:\n",
    "        # Create PostgreSQL connection URL\n",
    "        dbConnectionUrl = f'postgresql://{postgresUsername}:{postgresPassword}@{postgresHost}:{postgresPort}/{postgresDbname}'\n",
    "        engine = create_engine(dbConnectionUrl) # Create SQLAlchemy engine\n",
    "    except Exception as error:\n",
    "        print(\"Failed to establish connections with postgres client\", error)\n",
    "    return engine\n",
    "\n",
    "#engine = establish_postgres_connection(postgresUsername, postgresPassword, postgresHost, postgresPort, postgresDbname)"
   ]
  }
 ],
 "metadata": {
  "kernelspec": {
   "display_name": "Python 3 (ipykernel)",
   "language": "python",
   "name": "python3"
  },
  "language_info": {
   "codemirror_mode": {
    "name": "ipython",
    "version": 3
   },
   "file_extension": ".py",
   "mimetype": "text/x-python",
   "name": "python",
   "nbconvert_exporter": "python",
   "pygments_lexer": "ipython3",
   "version": "3.9.13"
  }
 },
 "nbformat": 4,
 "nbformat_minor": 5
}
