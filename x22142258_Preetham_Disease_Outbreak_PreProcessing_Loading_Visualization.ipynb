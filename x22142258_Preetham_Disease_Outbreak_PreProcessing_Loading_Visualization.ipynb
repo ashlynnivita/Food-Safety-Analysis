{
 "cells": [
  {
   "cell_type": "markdown",
   "id": "39ee1b1a",
   "metadata": {},
   "source": [
    "### IMPORT PACKAGES AND LIBRARIES"
   ]
  },
  {
   "cell_type": "code",
   "execution_count": null,
   "id": "45650622",
   "metadata": {},
   "outputs": [],
   "source": [
    "#!pip install pymongo\n",
    "#!pip install psycopg2\n",
    "#!pip install wordcloud\n",
    "import pymongo\n",
    "import requests\n",
    "import pandas as pd\n",
    "import numpy as np\n",
    "import psycopg2\n",
    "import matplotlib.pyplot as plt\n",
    "import seaborn as sns\n",
    "from wordcloud import WordCloud\n",
    "import sqlalchemy\n",
    "from sqlalchemy import create_engine\n",
    "from sqlalchemy import exc\n",
    "from sqlalchemy import inspect"
   ]
  },
  {
   "cell_type": "markdown",
   "id": "c27355f2",
   "metadata": {},
   "source": [
    "### DATA CLEANING AND PRE-PROCESSING"
   ]
  },
  {
   "cell_type": "code",
   "execution_count": null,
   "id": "c04d0a9c",
   "metadata": {},
   "outputs": [],
   "source": [
    "# Load the dataset\n",
    "diseaseOutbreak = pd.read_csv(\"outbreaks.csv\")\n",
    "\n",
    "# Define a function to drop unrelated columns and create new ones\n",
    "def drop_and_create_columns(diseaseOutbreak):\n",
    "    # Drop the \"Serotype/Genotype\" column\n",
    "    columns_to_drop = [\"Serotype/Genotype\"]\n",
    "    diseaseOutbreak.drop(columns_to_drop, axis=1, inplace=True)\n",
    "    \n",
    "    # Create a new \"Location_State\" column by combining the \"Location\" and \"State\" columns\n",
    "    diseaseOutbreak[\"Location_State\"] = diseaseOutbreak[\"Location\"] + \", \" + diseaseOutbreak[\"State\"]\n",
    "    \n",
    "    return diseaseOutbreak\n",
    "\n",
    "# Define a function to remove missing values\n",
    "def remove_missing_values(diseaseOutbreak):\n",
    "    diseaseOutbreak.dropna(inplace=True)\n",
    "    return diseaseOutbreak\n",
    "\n",
    "# Rename column names for easy understanding of data\n",
    "def rename_diseaseoutbreakcolumns(df):\n",
    "    column_map = {\n",
    "        'Year': 'year', \n",
    "        'Month': 'month', \n",
    "        'State': 'state', \n",
    "        'Location': 'location', \n",
    "        'Food': 'food', \n",
    "        'Ingredient': 'ingredient',  \n",
    "        'Species': 'species', \n",
    "        'Status': 'status', \n",
    "        'Illnesses': 'illnesses', \n",
    "        'Hospitalizations': 'hospitalizations', \n",
    "        'Fatalities': 'fatalities', \n",
    "        'Location_State': 'location_state' \n",
    "    } \n",
    "    df.rename(columns=column_map, inplace=True) \n",
    "    return df\n",
    "\n",
    "# Drop unrelated columns and create new ones\n",
    "diseaseOutbreak = drop_and_create_columns(diseaseOutbreak)\n",
    "\n",
    "# Remove missing values\n",
    "diseaseOutbreak = remove_missing_values(diseaseOutbreak)\n",
    "\n",
    "# Rename Column names\n",
    "rename_diseaseoutbreakcolumns(diseaseOutbreak)\n",
    "\n",
    "diseaseOutbreak.to_csv('outbreak_Clean.csv',index=False)"
   ]
  },
  {
   "cell_type": "markdown",
   "id": "1ed3a106",
   "metadata": {},
   "source": [
    "### RUN DATABASE CONNECTION FILE"
   ]
  },
  {
   "cell_type": "code",
   "execution_count": null,
   "id": "adfa141f",
   "metadata": {},
   "outputs": [],
   "source": [
    "#%run ./db_connections.ipynb"
   ]
  },
  {
   "cell_type": "markdown",
   "id": "e5ca4315",
   "metadata": {},
   "source": [
    "### TABLE CREATION AND DATA LOADING INTO POSTGRESQL"
   ]
  },
  {
   "cell_type": "code",
   "execution_count": null,
   "id": "8f3800b7",
   "metadata": {},
   "outputs": [],
   "source": [
    "# Function to create a table in PostgreSQL database for Disease_Outbreak data.\n",
    "\n",
    "def create_disease_outbreak_table(conn, table_name):\n",
    "    try:\n",
    "        cur = conn.cursor() # Create a cursor object for executing SQL queries.\n",
    "        # SQL query to create the table with column names and data types.\n",
    "        cur.execute(f'''\n",
    "            CREATE TABLE IF NOT EXISTS {table_name} (\n",
    "                 year TEXT,\n",
    "                 month TEXT,\n",
    "                 state TEXT,\n",
    "                 location TEXT,\n",
    "                 food TEXT,\n",
    "                 ingredient TEXT,\n",
    "                 species TEXT,\n",
    "                 status TEXT,\n",
    "                 illnesses INT,\n",
    "                 hospitalizations INT,\n",
    "                 fatalities INT,\n",
    "                 location_state TEXT\n",
    "            )\n",
    "        ''')\n",
    "        conn.commit() # Commit the transaction.\n",
    "        print(\"Table created successfully!\")\n",
    "    except psycopg2.Error as e:\n",
    "        print(\"Error creating table:\", e)\n",
    "        conn.rollback() # Rollback the transaction in case of an error.\n",
    "    finally:\n",
    "        cur.close() # Close the cursor.\n",
    "        \n",
    "table_name = postgresOutbreaktablename\n",
    "create_disease_outbreak_table(conn, table_name)"
   ]
  },
  {
   "cell_type": "code",
   "execution_count": null,
   "id": "3cf7aaf0",
   "metadata": {},
   "outputs": [],
   "source": [
    "diseaseOutbreak.head()"
   ]
  },
  {
   "cell_type": "code",
   "execution_count": null,
   "id": "54ca3228",
   "metadata": {},
   "outputs": [],
   "source": [
    "# Function to load data from a DataFrame to a PostgreSQL table.\n",
    "\n",
    "def load_disease_outbreak_to_postgresql(conn, diseaseOutbreak, table_name):\n",
    "    try:\n",
    "        engine = establish_postgres_connection(postgresUsername, postgresPassword, postgresHost, postgresPort, postgresDbname)\n",
    "        inspector = inspect(engine)\n",
    "        # Check if the table already contains data, if so, delete all the rows.\n",
    "        if table_name in inspector.get_table_names():\n",
    "            with conn.cursor() as cursor:\n",
    "                cursor.execute(f\"DELETE FROM {table_name}\")\n",
    "                conn.commit()  # Commit the DELETE statement\n",
    "                #print(f\"All rows deleted from table '{table_name}'.\")\n",
    "        diseaseOutbreak.to_sql(table_name, engine, if_exists='append', index=False)\n",
    "        engine.dispose() # Dispose the engine after data is loaded.\n",
    "        print(\"Data loaded to PostgreSQL successfully!\")\n",
    "    except exc.SQLAlchemyError as e:\n",
    "        print(\"Error loading data to PostgreSQL:\", e)\n",
    "\n",
    "load_disease_outbreak_to_postgresql(conn, diseaseOutbreak, table_name)"
   ]
  },
  {
   "cell_type": "markdown",
   "id": "e7b26325",
   "metadata": {},
   "source": [
    "### EXTRACT THE PRE-PROCESSED AND STRUCTURED DATA WHICH IS LOADED INTO POSTGRES INTO A PANDAS DATAFRAME"
   ]
  },
  {
   "cell_type": "code",
   "execution_count": null,
   "id": "0ac21d94",
   "metadata": {},
   "outputs": [],
   "source": [
    "# Function to extract data from PostgreSQL table and load it into a DataFrame\n",
    "\n",
    "def extract_disease_data_from_postgresql(engine, table_name):\n",
    "    try:\n",
    "        \n",
    "        # Define the query to extract data\n",
    "        query = f'SELECT * FROM {table_name}'\n",
    "        df = pd.read_sql(query, engine)\n",
    "        print(\"Data loaded from PostgreSQL to DataFrame successfully!\")\n",
    "        return df\n",
    "    except Exception as e:\n",
    "        print(\"Error loading data from PostgreSQL to DataFrame:\", e)\n",
    "\n",
    "engine = establish_postgres_connection(postgresUsername, postgresPassword, postgresHost, postgresPort, postgresDbname)\n",
    "disease_df_cleaned = extract_disease_data_from_postgresql(engine, table_name)"
   ]
  },
  {
   "cell_type": "code",
   "execution_count": null,
   "id": "4693e877",
   "metadata": {},
   "outputs": [],
   "source": [
    "disease_df_cleaned.tail()"
   ]
  },
  {
   "cell_type": "markdown",
   "id": "cd964e66",
   "metadata": {},
   "source": [
    "### CLOSE THE CONNECTION"
   ]
  },
  {
   "cell_type": "code",
   "execution_count": null,
   "id": "c64cb642",
   "metadata": {},
   "outputs": [],
   "source": [
    "#conn.close() #Close the connection"
   ]
  },
  {
   "cell_type": "markdown",
   "id": "bc4a6f6c",
   "metadata": {},
   "source": [
    "###                                       VISUALIZATION"
   ]
  },
  {
   "cell_type": "markdown",
   "id": "3f00763f",
   "metadata": {},
   "source": [
    "#### VISUALIZING FOR FOOD COLUMN IN BAR CHART PLOT"
   ]
  },
  {
   "cell_type": "code",
   "execution_count": null,
   "id": "8efe2d16",
   "metadata": {},
   "outputs": [],
   "source": [
    "#Which top 10 food items has the highest hospitalization rate and fatality rate combined?"
   ]
  },
  {
   "cell_type": "code",
   "execution_count": 1,
   "id": "ff301c92",
   "metadata": {},
   "outputs": [
    {
     "ename": "NameError",
     "evalue": "name 'disease_df_cleaned' is not defined",
     "output_type": "error",
     "traceback": [
      "\u001b[1;31m---------------------------------------------------------------------------\u001b[0m",
      "\u001b[1;31mNameError\u001b[0m                                 Traceback (most recent call last)",
      "\u001b[1;32m~\\AppData\\Local\\Temp\\ipykernel_24696\\66085295.py\u001b[0m in \u001b[0;36m<module>\u001b[1;34m\u001b[0m\n\u001b[0;32m      3\u001b[0m \u001b[1;33m\u001b[0m\u001b[0m\n\u001b[0;32m      4\u001b[0m \u001b[1;31m# Get the top 10 values\u001b[0m\u001b[1;33m\u001b[0m\u001b[1;33m\u001b[0m\u001b[0m\n\u001b[1;32m----> 5\u001b[1;33m \u001b[0mtop_10\u001b[0m \u001b[1;33m=\u001b[0m \u001b[0mdisease_df_cleaned\u001b[0m\u001b[1;33m[\u001b[0m\u001b[0mcol\u001b[0m\u001b[1;33m]\u001b[0m\u001b[1;33m.\u001b[0m\u001b[0mvalue_counts\u001b[0m\u001b[1;33m(\u001b[0m\u001b[1;33m)\u001b[0m\u001b[1;33m.\u001b[0m\u001b[0mnlargest\u001b[0m\u001b[1;33m(\u001b[0m\u001b[1;36m10\u001b[0m\u001b[1;33m)\u001b[0m\u001b[1;33m\u001b[0m\u001b[1;33m\u001b[0m\u001b[0m\n\u001b[0m\u001b[0;32m      6\u001b[0m \u001b[1;33m\u001b[0m\u001b[0m\n\u001b[0;32m      7\u001b[0m \u001b[1;31m# Create a bar plot\u001b[0m\u001b[1;33m\u001b[0m\u001b[1;33m\u001b[0m\u001b[0m\n",
      "\u001b[1;31mNameError\u001b[0m: name 'disease_df_cleaned' is not defined"
     ]
    }
   ],
   "source": [
    "# Define the column to use\n",
    "col = \"food\"\n",
    "\n",
    "# Get the top 10 values\n",
    "top_10 = disease_df_cleaned[col].value_counts().nlargest(10)\n",
    "\n",
    "# Create a bar plot\n",
    "top_10.plot(kind=\"bar\")\n",
    "plt.xlabel(col)\n",
    "plt.ylabel(\"Count\")\n",
    "plt.title(f\"Top 10 {col} (Bar Plot)\")\n",
    "plt.show()"
   ]
  },
  {
   "cell_type": "markdown",
   "id": "87467ac8",
   "metadata": {},
   "source": [
    "#### VISUALIZING FOR ILLNESS AND HOSPITALIZATIONS COLUMNS USING SCATTER PLOT GRAPHS"
   ]
  },
  {
   "cell_type": "code",
   "execution_count": null,
   "id": "d210b03c",
   "metadata": {},
   "outputs": [],
   "source": [
    "#What is the relationship between the number of reported illnesses and hospitalizations in disease outbreaks, and how does this relationship vary across different types of outbreaks and demographic groups?"
   ]
  },
  {
   "cell_type": "code",
   "execution_count": null,
   "id": "93763b59",
   "metadata": {},
   "outputs": [],
   "source": [
    "# Define a function to create a scatter plot\n",
    "def create_scatter_plot(disease_df_cleaned, x_col, y_col):\n",
    "    # Create a scatter plot using the x and y columns\n",
    "    ax = disease_df_cleaned.plot(kind=\"scatter\", x=x_col, y=y_col)\n",
    "    ax.set_xlabel(x_col)\n",
    "    ax.set_ylabel(y_col)\n",
    "    ax.set_title(f\"{y_col} vs {x_col}\")\n",
    "    \n",
    "    plt.show()\n",
    "\n",
    "# Create a scatter plot of illnesses vs hospitalizations\n",
    "create_scatter_plot(disease_df_cleaned, \"illnesses\", \"hospitalizations\")"
   ]
  },
  {
   "cell_type": "markdown",
   "id": "ca3de3f5",
   "metadata": {},
   "source": [
    "#### VISUALIZATION FOR YEAR AND ILLNESS USING LINE CHART"
   ]
  },
  {
   "cell_type": "code",
   "execution_count": null,
   "id": "e7aa65a1",
   "metadata": {},
   "outputs": [],
   "source": [
    "#Are there any trends in the number of foodborne illnesses over time in the dataset?"
   ]
  },
  {
   "cell_type": "code",
   "execution_count": null,
   "id": "fca7b506",
   "metadata": {},
   "outputs": [],
   "source": [
    "# Define a function to create a line chart\n",
    "def create_line_chart(disease_df_cleaned, x_col, y_col):\n",
    "    # Group the data by the x column and calculate the sum of the y column\n",
    "    grouped = disease_df_cleaned.groupby(x_col)[y_col].sum()\n",
    "    \n",
    "    # Create a line chart using the grouped data\n",
    "    ax = grouped.plot(kind=\"line\")\n",
    "    ax.set_xlabel(x_col)\n",
    "    ax.set_ylabel(y_col)\n",
    "    ax.set_title(f\"{y_col} over {x_col}\")\n",
    "    \n",
    "    plt.show()\n",
    "\n",
    "# Create a line chart of illnesses over time\n",
    "create_line_chart(disease_df_cleaned, \"year\", \"illnesses\")"
   ]
  },
  {
   "cell_type": "markdown",
   "id": "3edb68a5",
   "metadata": {},
   "source": [
    "#### VISUALIZATIONS FOR ILLNESS USING HISTOGRAM"
   ]
  },
  {
   "cell_type": "code",
   "execution_count": null,
   "id": "c31e3426",
   "metadata": {},
   "outputs": [],
   "source": [
    "#What are the most effective strategies for preventing or mitigating the spread of illnesses based on the patterns and trends identified in the dataset?"
   ]
  },
  {
   "cell_type": "code",
   "execution_count": null,
   "id": "b5c35b26",
   "metadata": {},
   "outputs": [],
   "source": [
    "# Define a function to create a histogram\n",
    "def create_histogram(disease_df_cleaned, col):\n",
    "    # Create a histogram using the specified column\n",
    "    ax = disease_df_cleaned[col].plot(kind=\"hist\")\n",
    "    ax.set_xlabel(col)\n",
    "    ax.set_ylabel(\"Frequency\")\n",
    "    ax.set_title(f\"Distribution of {col}\")\n",
    "    \n",
    "    plt.show()\n",
    "\n",
    "# Create a histogram of illness cases\n",
    "create_histogram(disease_df_cleaned, \"illnesses\")"
   ]
  },
  {
   "cell_type": "code",
   "execution_count": null,
   "id": "85fea58f",
   "metadata": {},
   "outputs": [],
   "source": [
    "#What are the top 10 species that are most commonly associated with reported cases of illnesses and hospitalizations?"
   ]
  },
  {
   "cell_type": "code",
   "execution_count": 1,
   "id": "9b31ddf6",
   "metadata": {},
   "outputs": [
    {
     "ename": "NameError",
     "evalue": "name 'disease_df_cleaned' is not defined",
     "output_type": "error",
     "traceback": [
      "\u001b[1;31m---------------------------------------------------------------------------\u001b[0m",
      "\u001b[1;31mNameError\u001b[0m                                 Traceback (most recent call last)",
      "\u001b[1;32m~\\AppData\\Local\\Temp\\ipykernel_19440\\1025891117.py\u001b[0m in \u001b[0;36m<module>\u001b[1;34m\u001b[0m\n\u001b[0;32m      4\u001b[0m \u001b[1;33m\u001b[0m\u001b[0m\n\u001b[0;32m      5\u001b[0m \u001b[1;31m# Get the top 10 species based on total count of illnesses and hospitalizations\u001b[0m\u001b[1;33m\u001b[0m\u001b[1;33m\u001b[0m\u001b[0m\n\u001b[1;32m----> 6\u001b[1;33m \u001b[0mtop_species\u001b[0m \u001b[1;33m=\u001b[0m \u001b[0mdisease_df_cleaned\u001b[0m\u001b[1;33m.\u001b[0m\u001b[0mgroupby\u001b[0m\u001b[1;33m(\u001b[0m\u001b[0mx_col\u001b[0m\u001b[1;33m)\u001b[0m\u001b[1;33m[\u001b[0m\u001b[0my_cols\u001b[0m\u001b[1;33m]\u001b[0m\u001b[1;33m.\u001b[0m\u001b[0msum\u001b[0m\u001b[1;33m(\u001b[0m\u001b[1;33m)\u001b[0m\u001b[1;33m.\u001b[0m\u001b[0msum\u001b[0m\u001b[1;33m(\u001b[0m\u001b[0maxis\u001b[0m\u001b[1;33m=\u001b[0m\u001b[1;36m1\u001b[0m\u001b[1;33m)\u001b[0m\u001b[1;33m.\u001b[0m\u001b[0mnlargest\u001b[0m\u001b[1;33m(\u001b[0m\u001b[1;36m10\u001b[0m\u001b[1;33m)\u001b[0m\u001b[1;33m.\u001b[0m\u001b[0mindex\u001b[0m\u001b[1;33m.\u001b[0m\u001b[0mtolist\u001b[0m\u001b[1;33m(\u001b[0m\u001b[1;33m)\u001b[0m\u001b[1;33m\u001b[0m\u001b[1;33m\u001b[0m\u001b[0m\n\u001b[0m\u001b[0;32m      7\u001b[0m \u001b[1;33m\u001b[0m\u001b[0m\n\u001b[0;32m      8\u001b[0m \u001b[1;31m# Filter the dataframe to only include the top 10 species\u001b[0m\u001b[1;33m\u001b[0m\u001b[1;33m\u001b[0m\u001b[0m\n",
      "\u001b[1;31mNameError\u001b[0m: name 'disease_df_cleaned' is not defined"
     ]
    }
   ],
   "source": [
    "# Define the columns to use\n",
    "x_col = \"species\"\n",
    "y_cols = [\"illnesses\", \"hospitalizations\"]\n",
    "\n",
    "# Get the top 10 species based on total count of illnesses and hospitalizations\n",
    "top_species = disease_df_cleaned.groupby(x_col)[y_cols].sum().sum(axis=1).nlargest(10).index.tolist()\n",
    "\n",
    "# Filter the dataframe to only include the top 10 species\n",
    "df_top_species = disease_df_cleaned[disease_df_cleaned[x_col].isin(top_species)]\n",
    "\n",
    "# Create a stacked bar chart for the top 10 species\n",
    "df_top_species.groupby(x_col)[y_cols].sum().plot(kind=\"bar\", stacked=True)\n",
    "plt.xlabel(x_col)\n",
    "plt.ylabel(\"Count\")\n",
    "plt.title(\"Top 10 Species and Illness Outcomes (Stacked Bar Chart)\")\n",
    "plt.show()"
   ]
  },
  {
   "cell_type": "code",
   "execution_count": null,
   "id": "d379319f",
   "metadata": {},
   "outputs": [],
   "source": [
    "\n",
    "#what is the total number of reported illnesses for each of the top 10 species."
   ]
  },
  {
   "cell_type": "code",
   "execution_count": null,
   "id": "63fd97a4",
   "metadata": {},
   "outputs": [],
   "source": [
    "# Define the columns to use\n",
    "x_col = \"species\"\n",
    "y_col = \"illnesses\"\n",
    "\n",
    "# Group the data by species and sum the illnesses\n",
    "species_counts = disease_df_cleaned.groupby(x_col)[y_col].sum()\n",
    "\n",
    "# Sort the species counts in descending order\n",
    "species_counts = species_counts.sort_values(ascending=False)\n",
    "\n",
    "# Keep only the top 10 species\n",
    "species_counts = species_counts[:10]\n",
    "\n",
    "# Create a pie chart\n",
    "plt.pie(species_counts.values, labels=species_counts.index, autopct='%1.1f%%')\n",
    "plt.title(f\"{y_col} by {x_col} (Pie Chart)\")\n",
    "plt.show()"
   ]
  }
 ],
 "metadata": {
  "kernelspec": {
   "display_name": "Python 3 (ipykernel)",
   "language": "python",
   "name": "python3"
  },
  "language_info": {
   "codemirror_mode": {
    "name": "ipython",
    "version": 3
   },
   "file_extension": ".py",
   "mimetype": "text/x-python",
   "name": "python",
   "nbconvert_exporter": "python",
   "pygments_lexer": "ipython3",
   "version": "3.9.13"
  }
 },
 "nbformat": 4,
 "nbformat_minor": 5
}
