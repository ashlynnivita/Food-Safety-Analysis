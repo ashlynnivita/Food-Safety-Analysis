{
 "cells": [
  {
   "cell_type": "markdown",
   "id": "e7377ec9",
   "metadata": {},
   "source": [
    "### Run the Database Connection File"
   ]
  },
  {
   "cell_type": "code",
   "execution_count": null,
   "id": "92e42c6a",
   "metadata": {},
   "outputs": [],
   "source": [
    "#%run ./db_connections.ipynb"
   ]
  },
  {
   "cell_type": "markdown",
   "id": "d945497a",
   "metadata": {},
   "source": [
    "### Import the Necessary Packages and Libraries"
   ]
  },
  {
   "cell_type": "code",
   "execution_count": null,
   "id": "80900424",
   "metadata": {},
   "outputs": [],
   "source": [
    "#!pip install pymongo\n",
    "#!pip install psycopg2\n",
    "#!pip install wordcloud\n",
    "import pymongo\n",
    "import requests\n",
    "import pandas as pd\n",
    "import numpy as np\n",
    "import psycopg2\n",
    "import matplotlib.pyplot as plt\n",
    "import seaborn as sns\n",
    "from wordcloud import WordCloud\n",
    "import sqlalchemy\n",
    "from sqlalchemy import create_engine\n",
    "from sqlalchemy import exc\n",
    "from sqlalchemy import inspect"
   ]
  },
  {
   "cell_type": "markdown",
   "id": "6c9e554b",
   "metadata": {},
   "source": [
    "### Load the Data from the API to the MongoDB Collection"
   ]
  },
  {
   "cell_type": "code",
   "execution_count": null,
   "id": "eea143dc",
   "metadata": {},
   "outputs": [],
   "source": [
    "# Function that checks if the MongoDB collection is empty, drops the collection if it is not empty, fetches data from the FDA API, and stores it in the collection.\n",
    "\n",
    "def check_and_load_fda_data(api_url, collection):   \n",
    "    if collection.count_documents({}) > 0:  \n",
    "        collection.drop()\n",
    "        print(\"Existing Collection dropped successfully.\")\n",
    "    else:\n",
    "        print(\"Loading data from FDA API...\")\n",
    "    print(\"Loading data from FDA API...\")\n",
    "    fetch_and_store_fda_data(api_url, collection)\n",
    "    print(\"Data loaded successfully from FDA API.\")\n",
    "\n",
    "# Function that fetches data from the FDA API using the provided API URL. Returns the total count and results of the fetched data.\n",
    "\n",
    "def fetch_fda_data(api_url):\n",
    "    try:\n",
    "        response = requests.get(api_url)\n",
    "        response.raise_for_status()  # Raise an exception if response has error status code.\n",
    "        json_data = response.json()\n",
    "        return json_data['meta']['results']['total'], json_data['results']\n",
    "    except requests.exceptions.RequestException as e:\n",
    "        print(f\"Error occurred while fetching FDA data: {e}\")\n",
    "        return None, None\n",
    "\n",
    "# Function that stores the fetched FDA data in the MongoDB collection.\n",
    "\n",
    "def store_fda_data(collection, fda_data):\n",
    "    try:\n",
    "        collection.insert_many(fda_data)\n",
    "        #print(f\"Stored {len(fda_data)} records in MongoDB\")\n",
    "    except pymongo.errors.PyMongoError as e:\n",
    "        print(f\"Error occurred while storing FDA data in MongoDB: {e}\")\n",
    "\n",
    "# Funciton that fetches and stores FDA data in MongoDB in chunks of 1000 records at a time.\n",
    "\n",
    "def fetch_and_store_fda_data(api_url, collection):\n",
    "    skip = 0\n",
    "    fda_data = []\n",
    "    while True:\n",
    "        api = f'{api_url}?limit=1000&skip={skip}'\n",
    "        total, results = fetch_fda_data(api)\n",
    "        if total is None or results is None:\n",
    "            break\n",
    "        if not results:\n",
    "            print(\"No more data available from FDA API\")\n",
    "            break\n",
    "        store_fda_data(collection, results)\n",
    "        fda_data.extend(results)\n",
    "        skip += 1000\n",
    "        if skip >= total:\n",
    "            break\n",
    "            \n",
    "# Connect to MongoDB\n",
    "client, db, collection = connect_to_mongodb(mongoConnectionstring, mongoDatabasename, mongoCollectionname)\n",
    "\n",
    "# Call the check_and_load_fda_data function to fetch and store FDA data\n",
    "check_and_load_fda_data('https://api.fda.gov/food/enforcement.json', collection)"
   ]
  },
  {
   "cell_type": "markdown",
   "id": "6428f310",
   "metadata": {},
   "source": [
    "### Load the Data from the MongoDB Collection to a Pandas Dataframe"
   ]
  },
  {
   "cell_type": "code",
   "execution_count": null,
   "id": "b70da49e",
   "metadata": {},
   "outputs": [],
   "source": [
    "#del fda_df_extracted"
   ]
  },
  {
   "cell_type": "code",
   "execution_count": null,
   "id": "64557773",
   "metadata": {},
   "outputs": [],
   "source": [
    "def load_data_to_dataframe(collection):\n",
    "    try:\n",
    "        if collection.count_documents({}) > 0:\n",
    "            # Retrieve data from MongoDB into a DataFrame\n",
    "            fda_df_extracted = pd.DataFrame(list(collection.find()))\n",
    "            print(\"Data loaded from MongoDB collection into a DataFrame.\")\n",
    "        else:\n",
    "            print(\"No data available in MongoDB collection.\")\n",
    "            fda_df_extracted = None\n",
    "    except Exception as e:\n",
    "        print(f\"Error occurred while loading data from MongoDB: {e}\")\n",
    "        fda_df_extracted = None\n",
    "    return fda_df_extracted\n",
    "\n",
    "fda_df_extracted = load_data_to_dataframe(collection)"
   ]
  },
  {
   "cell_type": "code",
   "execution_count": null,
   "id": "6e8933cf",
   "metadata": {},
   "outputs": [],
   "source": [
    "#To check if the dataframe is created by displaying the first five rows of the dataframe\n",
    "\n",
    "fda_df_extracted.tail()"
   ]
  },
  {
   "cell_type": "markdown",
   "id": "5f875e0a",
   "metadata": {},
   "source": [
    "### Data Cleaning and Pre-Processing"
   ]
  },
  {
   "cell_type": "code",
   "execution_count": null,
   "id": "1c4156d2",
   "metadata": {},
   "outputs": [],
   "source": [
    "# Function to replace empty strings with None\n",
    "\n",
    "def replace_empty_strings_with_none(df, columns):\n",
    "    for column in columns:\n",
    "        df[column].replace('', None, inplace=True)\n",
    "    return df\n",
    "\n",
    "columns_to_replace_empty_strings = [\"address_1\",\"address_2\", \"more_code_info\", \"openfda\", \"_id\",\"city\", \"country\", \"product_quantity\", \"recall_number\", \"reason_for_recall\", \"recalling_firm\",\n",
    "                                       \"termination_date\", \"status\", \"voluntary_mandated\", \"initial_firm_notification\",\n",
    "                                       \"product_type\", \"classification\", \"code_info\", \"state\", \"postal_code\",\n",
    "                                       \"center_classification_date\", \"distribution_pattern\", \"product_description\",\n",
    "                                       \"report_date\", \"event_id\", \"recall_initiation_date\"]\n",
    "df = replace_empty_strings_with_none(fda_df_extracted, columns_to_replace_empty_strings)"
   ]
  },
  {
   "cell_type": "code",
   "execution_count": null,
   "id": "04bb1924",
   "metadata": {},
   "outputs": [],
   "source": [
    "# Function to display the count of null values in each column before the data is cleaned.\n",
    "\n",
    "def null_value_count_before_processing(df):\n",
    "    null_values_count=df.isnull().sum()\n",
    "    print(\"Null Value Count before pre-processing:\")\n",
    "    print(null_values_count)\n",
    "    return df\n",
    "\n",
    "df = null_value_count_before_processing(fda_df_extracted)"
   ]
  },
  {
   "cell_type": "code",
   "execution_count": null,
   "id": "a6e77e19",
   "metadata": {},
   "outputs": [],
   "source": [
    "# Functions to drop unwanted columns and rows with missing values, to replace missing values with mode, \"unknown\", convert few columns to date and to create a new column. \n",
    "\n",
    "def preprocess_fda_data(df):\n",
    "\n",
    "    def drop_columns(df, columns):\n",
    "        df = df.drop(columns=columns, axis=1)\n",
    "        return df\n",
    "\n",
    "    def drop_na_rows(df, columns):\n",
    "        df.dropna(subset=columns, inplace=True)\n",
    "        return df\n",
    "\n",
    "    def fillna_with_mode(df, column):\n",
    "        mode_value = df[column].mode().values[0]\n",
    "        df[column].fillna(mode_value, inplace=True)\n",
    "        return df\n",
    "\n",
    "    def fillna_with_unknown(df, columns):\n",
    "        df[columns] = df[columns].fillna(\"Unknown\")\n",
    "        return df\n",
    "\n",
    "    def convert_to_datetime(df, columns):\n",
    "        for column in columns:\n",
    "            df[column] = pd.to_datetime(df[column], errors='coerce')\n",
    "        return df\n",
    "    \n",
    "    def extract_digits_from_recall_numbers(df):\n",
    "        df['recall_number_digits'] = df['recall_number'].str.replace(r'\\D', '', regex=True).astype(int)\n",
    "        return df\n",
    "    \n",
    "    # Drop unnecessary columns\n",
    "    columns_to_drop = ['address_2', 'more_code_info', 'openfda', '_id']\n",
    "    df = drop_columns(df, columns_to_drop)\n",
    "\n",
    "    # Drop rows with missing values in specified columns\n",
    "    columns_with_missing_values = [\"recall_initiation_date\", \"recall_number\", \"product_quantity\", \"country\", \"city\", \n",
    "                                   \"product_quantity\", \"reason_for_recall\", \"recalling_firm\", \"termination_date\", \"status\"]\n",
    "    df = drop_na_rows(df, columns_with_missing_values)\n",
    "\n",
    "    # Fill missing values with mode in specified columns\n",
    "    columns_to_fillna_with_mode = [\"voluntary_mandated\", \"initial_firm_notification\", \"product_type\", \"classification\"]\n",
    "    for column in columns_to_fillna_with_mode:\n",
    "        df = fillna_with_mode(df, column)\n",
    "\n",
    "    # Fill NaN values with \"Unknown\" in specified columns\n",
    "    columns_to_fillna_with_unknown = [\"address_1\", \"code_info\", \"state\", \"postal_code\", \"center_classification_date\", \"distribution_pattern\", \"product_description\", \"report_date\", \"event_id\"]\n",
    "    df = fillna_with_unknown(df, columns_to_fillna_with_unknown)\n",
    "\n",
    "    # Convert columns to datetime\n",
    "    columns_to_convert_to_datetime = ['recall_initiation_date', 'center_classification_date', 'report_date', 'termination_date']\n",
    "    df = convert_to_datetime(df, columns_to_convert_to_datetime)\n",
    "    \n",
    "    # Extract digits from recall numbers and convert to integers\n",
    "    df = extract_digits_from_recall_numbers(df)\n",
    "    \n",
    "    return df\n",
    "\n",
    "# Update fda_df_extracted with the preprocessed data\n",
    "\n",
    "fda_df_extracted = preprocess_fda_data(fda_df_extracted)"
   ]
  },
  {
   "cell_type": "code",
   "execution_count": null,
   "id": "654b5132",
   "metadata": {},
   "outputs": [],
   "source": [
    "# Function to display the count of null values in each column after the data is cleaned.\n",
    "\n",
    "def null_value_count_after_processing(df):\n",
    "    null_values_count=df.isnull().sum()\n",
    "    print(\"Null Value Count after pre-processing:\")\n",
    "    print(null_values_count)\n",
    "    return df\n",
    "\n",
    "df = null_value_count_after_processing(fda_df_extracted)"
   ]
  },
  {
   "cell_type": "code",
   "execution_count": null,
   "id": "9c3d6253",
   "metadata": {},
   "outputs": [],
   "source": [
    "#fda_df_extracted.dtypes"
   ]
  },
  {
   "cell_type": "code",
   "execution_count": null,
   "id": "52787728",
   "metadata": {},
   "outputs": [],
   "source": [
    "# Convert DataFrame to CSV\n",
    "#fda_df_extracted.to_csv('fda_df_extracted.csv', index=False)"
   ]
  },
  {
   "cell_type": "markdown",
   "id": "f9c96779",
   "metadata": {},
   "source": [
    "### Table Creation and Data Loading into PostgreSQL"
   ]
  },
  {
   "cell_type": "code",
   "execution_count": null,
   "id": "7ce2ea71",
   "metadata": {},
   "outputs": [],
   "source": [
    "# Function to create a table in PostgreSQL database for FDA data.\n",
    "\n",
    "def create_fda_table(conn, table_name):\n",
    "    try:\n",
    "        cur = conn.cursor() # Create a cursor object for executing SQL queries.\n",
    "        # SQL query to create the table with column names and data types.\n",
    "        cur.execute(f'''\n",
    "            CREATE TABLE IF NOT EXISTS {table_name} (\n",
    "                country TEXT,\n",
    "                city TEXT,\n",
    "                address_1 TEXT,\n",
    "                reason_for_recall TEXT,\n",
    "                product_quantity TEXT,\n",
    "                code_info TEXT,\n",
    "                center_classification_date DATE,\n",
    "                distribution_pattern TEXT,\n",
    "                state TEXT,\n",
    "                product_description TEXT,\n",
    "                report_date DATE,\n",
    "                classification TEXT,\n",
    "                recalling_firm TEXT,\n",
    "                recall_number TEXT,\n",
    "                initial_firm_notification TEXT,\n",
    "                product_type TEXT,\n",
    "                event_id TEXT,\n",
    "                recall_initiation_date DATE,\n",
    "                postal_code TEXT,\n",
    "                voluntary_mandated TEXT,\n",
    "                status TEXT,\n",
    "                termination_date DATE,\n",
    "                recall_number_digits INT\n",
    "            )\n",
    "        ''')\n",
    "        conn.commit() # Commit the transaction.\n",
    "        print(\"Table created successfully!\")\n",
    "    except psycopg2.Error as e:\n",
    "        print(\"Error creating table:\", e)\n",
    "        conn.rollback() # Rollback the transaction in case of an error.\n",
    "    finally:\n",
    "        cur.close() # Close the cursor.\n",
    "        \n",
    "table_name = postgresFdatablename\n",
    "create_fda_table(conn, table_name)"
   ]
  },
  {
   "cell_type": "code",
   "execution_count": null,
   "id": "c159c985",
   "metadata": {},
   "outputs": [],
   "source": [
    "# Function to load data from a DataFrame to a PostgreSQL table.\n",
    "\n",
    "def load_fda_data_to_postgresql(conn, df, table_name):\n",
    "    try:\n",
    "        engine = establish_postgres_connection(postgresUsername, postgresPassword, postgresHost, postgresPort, postgresDbname)\n",
    "        inspector = inspect(engine)\n",
    "        # Check if the table already contains data, if so, delete all the rows.\n",
    "        if table_name in inspector.get_table_names():\n",
    "            with conn.cursor() as cursor:\n",
    "                cursor.execute(f\"DELETE FROM {table_name}\")\n",
    "                conn.commit()  # Commit the DELETE statement\n",
    "                #print(f\"All rows deleted from table '{table_name}'.\")\n",
    "        df.to_sql(table_name, engine, if_exists='append', index=False)\n",
    "        engine.dispose() # Dispose the engine after data is loaded.\n",
    "        print(\"Data loaded to PostgreSQL successfully!\")\n",
    "    except exc.SQLAlchemyError as e:\n",
    "        print(\"Error loading data to PostgreSQL:\", e)\n",
    "\n",
    "load_fda_data_to_postgresql(conn, fda_df_extracted, table_name)"
   ]
  },
  {
   "cell_type": "markdown",
   "id": "c4929c2c",
   "metadata": {},
   "source": [
    "### Extract the Pre-processed and Structured Data that was loaded into Postgres into a Pandas Dataframe"
   ]
  },
  {
   "cell_type": "code",
   "execution_count": null,
   "id": "d6ae36f1",
   "metadata": {},
   "outputs": [],
   "source": [
    "# Function to extract data from PostgreSQL table and load it into a DataFrame\n",
    "\n",
    "def extract_fda_data_from_postgresql(engine, table_name):\n",
    "    try:\n",
    "        \n",
    "        # Define the query to extract data\n",
    "        query = f'SELECT * FROM {table_name}'\n",
    "        df = pd.read_sql(query, engine)\n",
    "        print(\"Data loaded from PostgreSQL to DataFrame successfully!\")\n",
    "        return df\n",
    "    except Exception as e:\n",
    "        print(\"Error loading data from PostgreSQL to DataFrame:\", e)\n",
    "\n",
    "engine = establish_postgres_connection(postgresUsername, postgresPassword, postgresHost, postgresPort, postgresDbname)\n",
    "fda_df_cleaned = extract_fda_data_from_postgresql(engine, table_name)"
   ]
  },
  {
   "cell_type": "code",
   "execution_count": null,
   "id": "768c9415",
   "metadata": {},
   "outputs": [],
   "source": [
    "#len(fda_df_cleaned)"
   ]
  },
  {
   "cell_type": "code",
   "execution_count": null,
   "id": "e2a34c2a",
   "metadata": {},
   "outputs": [],
   "source": [
    "#conn.close() #Close the connection"
   ]
  },
  {
   "cell_type": "markdown",
   "id": "67dcc8c0",
   "metadata": {},
   "source": [
    "### Visualization"
   ]
  },
  {
   "cell_type": "markdown",
   "id": "cb70ded4",
   "metadata": {},
   "source": [
    "#### 1) What are the most common reasons for recalls which provides insights into the types of issues that occur generally?"
   ]
  },
  {
   "cell_type": "code",
   "execution_count": null,
   "id": "6f515de8",
   "metadata": {},
   "outputs": [],
   "source": [
    "text_col = 'reason_for_recall'\n",
    "\n",
    "# Concatenate all the text from the selected column\n",
    "text = ' '.join(fda_df_cleaned[text_col].dropna().tolist())\n",
    "\n",
    "# Generate word cloud\n",
    "wordcloud = WordCloud(width=800, height=400, background_color='white').generate(text)\n",
    "\n",
    "# Create a plot\n",
    "fig, ax = plt.subplots(figsize=(10, 5))\n",
    "ax.imshow(wordcloud, interpolation='bilinear')\n",
    "ax.set_title('Word Cloud of ' + text_col.capitalize())\n",
    "ax.axis('off')\n",
    "\n",
    "# Display the plot\n",
    "plt.show()"
   ]
  },
  {
   "cell_type": "markdown",
   "id": "cbbf7e76",
   "metadata": {},
   "source": [
    "#### 2) What are the top 10 recalling firms with the highest number of recalls?"
   ]
  },
  {
   "cell_type": "code",
   "execution_count": null,
   "id": "53a1fbcf",
   "metadata": {},
   "outputs": [],
   "source": [
    "# Get the top 10 recalling firms\n",
    "top_10_recalling_firms = fda_df_cleaned['recalling_firm'].value_counts().head(10)\n",
    "\n",
    "# Create a bar chart\n",
    "sns.barplot(x=top_10_recalling_firms.values, y=top_10_recalling_firms.index, palette='viridis')\n",
    "plt.title('Top 10 Recalling Firms')\n",
    "plt.xlabel('Recall Count')\n",
    "plt.ylabel('Recalling Firm')\n",
    "plt.show()"
   ]
  },
  {
   "cell_type": "markdown",
   "id": "62ac80a6",
   "metadata": {},
   "source": [
    "#### 3) What is the distribution of recalling firms across different initial firm notification categories? Which notification category has the highest number of firms, and which one has the lowest number of firms?"
   ]
  },
  {
   "cell_type": "code",
   "execution_count": null,
   "id": "932e16ab",
   "metadata": {},
   "outputs": [],
   "source": [
    "# Group by initial firm notification and count the number of unique firms in each category\n",
    "firms_per_notification = fda_df_cleaned.groupby('initial_firm_notification')['recalling_firm'].nunique()\n",
    "\n",
    "# Sort by number of firms in descending order\n",
    "firms_per_notification = firms_per_notification.sort_values(ascending=False)\n",
    "\n",
    "# Create a bar chart\n",
    "plt.figure(figsize=(12, 6))\n",
    "sns.barplot(x=firms_per_notification.index, y=firms_per_notification.values)\n",
    "plt.xlabel('Initial Firm Notification')\n",
    "plt.ylabel('Number of Unique Recalling Firms')\n",
    "plt.title('Number of Firms per Initial Firm Notification Category (Ordered by Descending Count)')\n",
    "plt.xticks(rotation=90)\n",
    "plt.show()"
   ]
  },
  {
   "cell_type": "markdown",
   "id": "b3ea468d",
   "metadata": {},
   "source": [
    "#### 4) What are the trends or patterns of recalls over time i.e. How has the number of recalls changed over time? Are there any noticeable spikes or dips in recall activities?"
   ]
  },
  {
   "cell_type": "code",
   "execution_count": null,
   "id": "77bb9c92",
   "metadata": {},
   "outputs": [],
   "source": [
    "# Group the data by date and count the number of recalls in each date\n",
    "recall_initiation_date_counts = fda_df_cleaned['recall_initiation_date'].value_counts().sort_index()\n",
    "\n",
    "# Create a time series plot for Recall Initiation Date\n",
    "fig, ax = plt.subplots(figsize=(10, 5))\n",
    "ax.plot(recall_initiation_date_counts.index, recall_initiation_date_counts.values, color=\"#660066\")\n",
    "ax.set_title('Recalls by Recall Initiation Date')\n",
    "ax.set_xlabel('Recall Initiation Date')\n",
    "ax.set_ylabel('Number of Recalls')\n",
    "\n",
    "# Display the plots\n",
    "plt.show()"
   ]
  },
  {
   "cell_type": "markdown",
   "id": "9faf4cba",
   "metadata": {},
   "source": [
    "#### 5) What is the distribution of product recalls by month in the past year? Months that experienced higher recall activity compared to others."
   ]
  },
  {
   "cell_type": "code",
   "execution_count": null,
   "id": "859c142f",
   "metadata": {},
   "outputs": [],
   "source": [
    "# Calculate the past year date range\n",
    "fda_df_cleaned['recall_initiation_date'] = pd.to_datetime(fda_df_cleaned['recall_initiation_date'])\n",
    "current_year = pd.Timestamp.now().year\n",
    "past_year_start = pd.Timestamp(year=current_year-1, month=1, day=1)\n",
    "past_year_end = pd.Timestamp(year=current_year-1, month=12, day=31)\n",
    "\n",
    "# Filter the data for the past year\n",
    "filtered_data = fda_df_cleaned[\n",
    "    (fda_df_cleaned['recall_initiation_date'] >= past_year_start) &\n",
    "    (fda_df_cleaned['recall_initiation_date'] <= past_year_end)\n",
    "]\n",
    "\n",
    "# Group the filtered data by month and count the occurrences\n",
    "monthly_recalls = filtered_data['recall_initiation_date'].dt.month.value_counts().sort_index()\n",
    "\n",
    "# Create a 2D array for the heat map data\n",
    "heat_map_data = np.zeros((12,))\n",
    "for month, count in monthly_recalls.items():\n",
    "    heat_map_data[month-1] = count\n",
    "\n",
    "# Create the heat map\n",
    "plt.figure(figsize=(10, 6))  # Set the figure size\n",
    "plt.imshow([heat_map_data], cmap='magma', aspect='auto', interpolation='nearest')  # Plot the heat map\n",
    "plt.colorbar(label='Recall Count')  # Add a colorbar with label\n",
    "plt.title('Product Recalls by Month (Past Year)')  # Set the title of the chart\n",
    "plt.xlabel('Month')  # Set the x-axis label\n",
    "plt.xticks(np.arange(12), ['Jan', 'Feb', 'Mar', 'Apr', 'May', 'Jun', 'Jul', 'Aug', 'Sep', 'Oct', 'Nov', 'Dec'])  # Set x-axis tick labels\n",
    "plt.ylabel('Recall Count')  # Set the y-axis label\n",
    "plt.show()  # Show the plot"
   ]
  },
  {
   "cell_type": "markdown",
   "id": "4256683e",
   "metadata": {},
   "source": [
    "#### 6) What are the top 50 event IDs with the most recalls?"
   ]
  },
  {
   "cell_type": "code",
   "execution_count": null,
   "id": "6bc33ea6",
   "metadata": {},
   "outputs": [],
   "source": [
    "# Group by event ID and count the unique recall numbers\n",
    "event_recall_counts = fda_df_cleaned.groupby('event_id')['recall_number_digits'].nunique().reset_index()\n",
    "\n",
    "# Sort by recall counts in descending order and select the top 50 event IDs\n",
    "top_50_event_ids = event_recall_counts.sort_values('recall_number_digits', ascending=False).head(50)\n",
    "\n",
    "# Create a count plot\n",
    "plt.figure(figsize=(12, 6))\n",
    "sns.barplot(x='event_id', y='recall_number_digits', data=top_50_event_ids)\n",
    "plt.xlabel('Event ID')\n",
    "plt.ylabel('Number of Unique Recall Numbers')\n",
    "plt.title('Top 50 Event IDs with Highest Number of Unique Recall Numbers')\n",
    "plt.xticks(rotation=90)\n",
    "plt.show()"
   ]
  },
  {
   "cell_type": "markdown",
   "id": "afb6dbbc",
   "metadata": {},
   "source": [
    "#### 7) Which classification category (risk level indicator), has the highest or lowest percentage of recalls?"
   ]
  },
  {
   "cell_type": "code",
   "execution_count": null,
   "id": "f93e5309",
   "metadata": {},
   "outputs": [],
   "source": [
    "# Count recalls by classification\n",
    "df_counts = fda_df_cleaned['classification'].value_counts()\n",
    "\n",
    "custom_colors = [\"#990033\", \"#009999\", \"#ff6600\", \"#33cc33\", \"#333399\"]\n",
    "\n",
    "# Pie chart\n",
    "plt.figure(figsize=(8, 8)) # Set figure size\n",
    "plt.pie(df_counts.values, labels=df_counts.index, autopct='%1.1f%%', startangle=90, colors=custom_colors) # Create pie chart\n",
    "plt.title('Recalls Distribution by Classification') # Set plot title\n",
    "plt.show() # Show plot"
   ]
  }
 ],
 "metadata": {
  "kernelspec": {
   "display_name": "Python 3 (ipykernel)",
   "language": "python",
   "name": "python3"
  },
  "language_info": {
   "codemirror_mode": {
    "name": "ipython",
    "version": 3
   },
   "file_extension": ".py",
   "mimetype": "text/x-python",
   "name": "python",
   "nbconvert_exporter": "python",
   "pygments_lexer": "ipython3",
   "version": "3.9.13"
  }
 },
 "nbformat": 4,
 "nbformat_minor": 5
}
