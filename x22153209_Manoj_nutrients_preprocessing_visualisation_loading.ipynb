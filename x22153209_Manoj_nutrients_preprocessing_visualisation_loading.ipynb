{
 "cells": [
  {
   "cell_type": "markdown",
   "id": "ad9b5352",
   "metadata": {},
   "source": [
    "### Importing all Necessary Libraries "
   ]
  },
  {
   "cell_type": "code",
   "execution_count": null,
   "id": "b0049569",
   "metadata": {},
   "outputs": [],
   "source": [
    "# Importing all libraries\n",
    "\n",
    "import pandas as pd\n",
    "import numpy as np\n",
    "import matplotlib.pyplot as plt\n",
    "import seaborn as sns\n",
    "import sqlalchemy\n",
    "from sqlalchemy import exc\n",
    "from sqlalchemy import inspect\n",
    "from sqlalchemy import create_engine"
   ]
  },
  {
   "cell_type": "markdown",
   "id": "72b0c211",
   "metadata": {},
   "source": [
    "### Extracting the Dataset from CSV to a Pandas Dataframe followed by Cleaning and Transformation"
   ]
  },
  {
   "cell_type": "code",
   "execution_count": null,
   "id": "a5b30c21",
   "metadata": {},
   "outputs": [],
   "source": [
    "#Loads the dataset from the specified file path and returns it as a pandas DataFrame.\n",
    "    \n",
    "def load_dataset(nutrients_csv):\n",
    "    df = pd.read_csv(nutrients_csv)\n",
    "    return df\n",
    "\n",
    "#Cleans the specified DataFrame by removing any rows with missing values and dropping any columns that are not needed for analysis.\n",
    "\n",
    "def clean_dataset(df):  \n",
    "    # Drop any rows with missing values\n",
    "    df.dropna(inplace=True)\n",
    "\n",
    "    # Drop any columns that are not needed for analysis\n",
    "    columns_to_drop = ['index','NDB_No','index', 'Ash_(g)', 'Sugar_Tot_(g)', 'Copper_mg)', 'Manganese_(mg)', 'Folate_DFE_(µg)','Vit_K_(µg)', 'Choline_Tot_ (mg)', 'Retinol_(µg)', 'Alpha_Carot_(µg)', 'Beta_Carot_(µg)', 'Beta_Crypt_(µg)', 'Lycopene_(µg)', 'Lut+Zea_ (µg)', 'Vit_D_µg', 'Vit_D_IU', 'FA_Sat_(g)', 'FA_Mono_(g)', 'FA_Poly_(g)', 'Refuse_Pct','GmWt_1','GmWt_Desc1','GmWt_2','GmWt_Desc2','Refuse_Pct','Thiamin_(mg)','Selenium_(µg)','Niacin_(mg)','Riboflavin_(mg)','Folic_Acid_(µg)','Vit_E_(mg)','Vit_A_RAE','Food_Folate_(µg)','Vit_B12_(µg)','Folate_Tot_(µg)','Panto_Acid_mg)']\n",
    "    df.drop(columns=columns_to_drop, inplace=True)\n",
    "\n",
    "    # Rename columns to make them easier to work with\n",
    "    new_column_names = {'Shrt_Desc': 'products', 'Water_(g)': 'water', 'Energ_Kcal': 'calories', 'Protein_(g)': 'protein', 'Lipid_Tot_(g)': 'fat', 'Carbohydrt_(g)': 'carbohydrates', 'Fiber_TD_(g)': 'fiber', 'Calcium_(mg)': 'calcium', 'Iron_(mg)': 'iron', 'Magnesium_(mg)': 'magnesium', 'Phosphorus_(mg)': 'phosphorus','Potassium_(mg)': 'potassium', 'Sodium_(mg)': 'sodium', 'Vit_C_(mg)': 'vit_c','Zinc_(mg)' : 'zinc', 'Vit_B6_(mg)': 'vitamin_b', 'Vit_A_IU': 'vitamin_a', 'Cholestrl_(mg)' : 'cholestrl'}\n",
    "    df.rename(columns=new_column_names, inplace=True)\n",
    "\n",
    "    # Create a new column for the total minerals\n",
    "    df['tot_minerals'] = df['calcium'] + df['iron'] + df['magnesium'] + df['phosphorus'] + df['potassium'] + df['sodium'] + df['zinc'] \n",
    "    return df\n",
    "\n",
    "#Saves the specified DataFrame to the specified file path.\n",
    "\n",
    "def save_dataset(df,cleaned_dataset_csv):\n",
    "    df.to_csv(cleaned_dataset_csv, index=False)\n",
    "\n",
    "\n",
    "# Load the dataset\n",
    "nutrients_df = load_dataset(\"nutrients.csv\")\n",
    "\n",
    "# Clean the dataset\n",
    "nutrients_cleaned_df = clean_dataset(nutrients_df)\n",
    "\n",
    "# Save the cleaned dataset to a new file\n",
    "save_dataset(nutrients_cleaned_df, \"cleaned_dataset.csv\")\n"
   ]
  },
  {
   "cell_type": "code",
   "execution_count": null,
   "id": "56a8dc4b",
   "metadata": {},
   "outputs": [],
   "source": [
    "selected_col = ['products','calories', 'protein', 'fat', 'carbohydrates', 'fiber', \n",
    "                    'calcium', 'iron', 'vit_c', 'vitamin_a', 'potassium', 'tot_minerals']\n",
    "\n",
    "# Create a new DataFrame with just the selected columns\n",
    "nutrients_updated_df = nutrients_cleaned_df[selected_col].copy()"
   ]
  },
  {
   "cell_type": "code",
   "execution_count": null,
   "id": "ab02458c",
   "metadata": {},
   "outputs": [],
   "source": [
    "nutrients_updated_df.head()"
   ]
  },
  {
   "cell_type": "code",
   "execution_count": null,
   "id": "9e16efff",
   "metadata": {},
   "outputs": [],
   "source": [
    "#%run ./db_connections.ipynb"
   ]
  },
  {
   "cell_type": "markdown",
   "id": "eb1cebdf",
   "metadata": {},
   "source": [
    "### Loading the Cleaned Dataset into PostgresSQL "
   ]
  },
  {
   "cell_type": "code",
   "execution_count": null,
   "id": "e6a1ab02",
   "metadata": {},
   "outputs": [],
   "source": [
    "# Function to create a table in PostgreSQL database for nutrients data.\n",
    "\n",
    "def create_nutrients_table(conn, table_name):\n",
    "    try:\n",
    "        cur = conn.cursor() \n",
    "        # SQL query to create the table.\n",
    "        cur.execute(f'''\n",
    "            CREATE TABLE IF NOT EXISTS {table_name} (\n",
    "                products VARCHAR(255),\n",
    "                calories INT,\n",
    "                protein float,\n",
    "                fat float,\n",
    "                carbohydrates float,\n",
    "                fiber float,\n",
    "                calcium float,\n",
    "                iron float,\n",
    "                vit_c float,\n",
    "                vitamin_a float,\n",
    "                potassium float,\n",
    "                tot_minerals float\n",
    "            )\n",
    "        ''')\n",
    "        conn.commit()\n",
    "        print(\"Table created successfully!\")\n",
    "    except psycopg2.Error as e:\n",
    "        print(\"Error creating table:\", e)\n",
    "        conn.rollback()\n",
    "    finally:\n",
    "        cur.close() # Close the cursor.\n",
    "        \n",
    "table_name = postgresNutrientstablename\n",
    "create_nutrients_table(conn, table_name)"
   ]
  },
  {
   "cell_type": "code",
   "execution_count": null,
   "id": "45ab83e0",
   "metadata": {},
   "outputs": [],
   "source": [
    "# Function to load a DataFrame to a PostgreSQL.\n",
    "\n",
    "def loadnutrients_data_to_postgresql(conn, df, table_name):\n",
    "    try:\n",
    "        engine = establish_postgres_connection(postgresUsername, postgresPassword, postgresHost, postgresPort, postgresDbname)\n",
    "        inspector = inspect(engine)\n",
    "        # Check if the table already contains data, if so, delete all the rows.\n",
    "        if table_name in inspector.get_table_names():\n",
    "            with conn.cursor() as cursor:\n",
    "                cursor.execute(f\"DELETE FROM {table_name}\")\n",
    "                conn.commit() \n",
    "        nutrients_updated_df.to_sql(table_name, engine, if_exists='append', index=False)\n",
    "        engine.dispose() \n",
    "        print(\"Data loaded to PostgreSQL successfully!\")\n",
    "    except exc.SQLAlchemyError as e:\n",
    "        print(\"Error loading data to PostgreSQL:\", e)\n",
    "        \n",
    "loadnutrients_data_to_postgresql(conn, nutrients_updated_df, table_name)"
   ]
  },
  {
   "cell_type": "markdown",
   "id": "393a2b3c",
   "metadata": {},
   "source": [
    "### Extracting the Cleaned Data from Postgres to a Dataframe "
   ]
  },
  {
   "cell_type": "code",
   "execution_count": null,
   "id": "eb407e26",
   "metadata": {},
   "outputs": [],
   "source": [
    "# Function to extract data from PostgreSQL table and load it into a DataFrame\n",
    "\n",
    "def extract_nutrients_data_from_postgresql(engine, table_name):\n",
    "    try:\n",
    "        \n",
    "        # Define the query to extract data\n",
    "        query = f'SELECT * FROM {table_name}'\n",
    "        df = pd.read_sql(query, engine)\n",
    "        print(\"Data loaded from PostgreSQL to DataFrame successfully!\")\n",
    "        return df\n",
    "    except Exception as e:\n",
    "        print(\"Error loading data from PostgreSQL to DataFrame:\", e)\n",
    "\n",
    "engine = establish_postgres_connection(postgresUsername, postgresPassword, postgresHost, postgresPort, postgresDbname)\n",
    "nutrients_postgres_df = extract_nutrients_data_from_postgresql(engine, table_name)"
   ]
  },
  {
   "cell_type": "code",
   "execution_count": null,
   "id": "d14ae35e",
   "metadata": {},
   "outputs": [],
   "source": [
    "nutrients_postgres_df.head()"
   ]
  },
  {
   "cell_type": "markdown",
   "id": "815db155",
   "metadata": {},
   "source": [
    "### Visualization "
   ]
  },
  {
   "cell_type": "code",
   "execution_count": null,
   "id": "48461b51",
   "metadata": {},
   "outputs": [],
   "source": [
    "#What is the distribution of calorie content among different foods\n",
    "\n",
    "# Create a histogram of the calorie content of different foods\n",
    "plt.hist(nutrients_postgres_df['calories'], bins=20)\n",
    "plt.xlabel(\"Calorie content\")\n",
    "plt.ylabel(\"Frequency\")\n",
    "plt.title(\"Distribution of calorie content among different foods\")\n",
    "plt.show()"
   ]
  },
  {
   "cell_type": "code",
   "execution_count": null,
   "id": "b08231e7",
   "metadata": {},
   "outputs": [],
   "source": [
    "#How do the nutrient values of different foods compare to each other\n",
    "plt.scatter(nutrients_postgres_df['protein'], nutrients_postgres_df['fat'])\n",
    "plt.xlabel(\"Protein\")\n",
    "plt.ylabel(\"Fat\")\n",
    "plt.title(\"Nutrient values of different foods\")\n",
    "plt.show()"
   ]
  },
  {
   "cell_type": "code",
   "execution_count": null,
   "id": "5a49b8fd",
   "metadata": {},
   "outputs": [],
   "source": [
    "#Which foods are the highest and lowest in fiber(top 10 values)\n",
    "fiber = nutrients_postgres_df['fiber'].head(10)\n",
    "food_names = nutrients_postgres_df['products'].head(10)\n",
    "\n",
    "# Sort the data by fiber content in descending order\n",
    "sort_data = nutrients_postgres_df.sort_values(by='fiber', ascending=False).head(10)\n",
    "\n",
    "# Create a horizontal bar chart\n",
    "plt.barh(sort_data['products'], sort_data['fiber'])\n",
    "\n",
    "# Set the axis labels and title\n",
    "plt.xlabel(\"Fiber\")\n",
    "plt.ylabel(\"Products\")\n",
    "plt.title(\"Top 10 Foods Highest in Fiber\")\n",
    "\n",
    "plt.show()"
   ]
  },
  {
   "cell_type": "code",
   "execution_count": null,
   "id": "4358fd43",
   "metadata": {},
   "outputs": [],
   "source": [
    "# heat map to show the relationship between the levels of fiber, calcium, and iron in each food item\n",
    "\n",
    "nutri = ['fiber', 'calcium', 'iron']\n",
    "subset_df = nutrients_postgres_df[nutri]\n",
    "\n",
    "# Create a heatmap using seaborn\n",
    "sns.heatmap(subset_df.corr(), annot=True)"
   ]
  },
  {
   "cell_type": "code",
   "execution_count": null,
   "id": "83010cf7",
   "metadata": {},
   "outputs": [],
   "source": [
    "#percentage of vitamin A and vitatin C in top 10 products\n",
    "# group the data by the top 10 foods with the highest Vitamin A IU content\n",
    "grouped = nutrients_postgres_df.sort_values('vitamin_a', ascending=False).head(10)\n",
    "\n",
    "# calculate the percentage breakdown of Vit_C_(mg) for each food\n",
    "grouped['vit_c %'] = grouped['vit_c'] / grouped['vit_c'].sum() * 100\n",
    "\n",
    "# calculate the percentage breakdown of Vitamin A IU for each food\n",
    "grouped['vitamin_a %'] = grouped['vitamin_a'] / grouped['vitamin_a'].sum() * 100\n",
    "\n",
    "# create a pie chart for each food\n",
    "for index, row in grouped.iterrows():\n",
    "    labels = ['vit_c', 'vitamin_a']\n",
    "    sizes = [row['vit_c %'], row['vitamin_a %']]\n",
    "    colors = ['cornflowerblue', 'lightcoral']\n",
    "    plt.pie(sizes, labels=labels, colors=colors, autopct='%1.1f%%', startangle=90)\n",
    "    plt.title(row['products'])\n",
    "    plt.axis('equal')\n",
    "    plt.show()"
   ]
  }
 ],
 "metadata": {
  "kernelspec": {
   "display_name": "Python 3 (ipykernel)",
   "language": "python",
   "name": "python3"
  },
  "language_info": {
   "codemirror_mode": {
    "name": "ipython",
    "version": 3
   },
   "file_extension": ".py",
   "mimetype": "text/x-python",
   "name": "python",
   "nbconvert_exporter": "python",
   "pygments_lexer": "ipython3",
   "version": "3.9.13"
  }
 },
 "nbformat": 4,
 "nbformat_minor": 5
}
